{
 "cells": [
  {
   "cell_type": "code",
   "execution_count": 5,
   "metadata": {},
   "outputs": [],
   "source": [
    "# Importing the necessary libraries\n",
    "import numpy as np\n",
    "import matplotlib.pyplot as plt"
   ]
  },
  {
   "cell_type": "code",
   "execution_count": 6,
   "metadata": {},
   "outputs": [],
   "source": [
    "# Defining the interval boundaries and the funciton to integrate\n",
    "a=0\n",
    "b=1\n",
    "def f(x):\n",
    "    return np.exp(-x)"
   ]
  },
  {
   "cell_type": "code",
   "execution_count": 13,
   "metadata": {},
   "outputs": [
    {
     "data": {
      "text/plain": [
       "array([2, 4, 6, 8])"
      ]
     },
     "execution_count": 13,
     "metadata": {},
     "output_type": "execute_result"
    }
   ],
   "source": [
    "#Defining an array with the number of intervals\n",
    "ms = np.arange(2,10,2)\n",
    "ms"
   ]
  },
  {
   "cell_type": "code",
   "execution_count": 8,
   "metadata": {},
   "outputs": [],
   "source": [
    "# Definition of the Simpson integrating function. Inputs:\n",
    "#  f: funciton to integrate\n",
    "#  a: interval start \n",
    "#  b: interval end\n",
    "#  m: number of subintervals\n",
    "# Outputs:\n",
    "#  int: value of the integral\n",
    "def compositeSimpson(f, a, b, m):\n",
    "    # INSERT CODE HERE\n",
    "    h = (b-a) / m\n",
    "    x = np.linspace(a, b, m+1)\n",
    "    return (h / 3) * (f(x[0]) + 4 * np.sum(f(x[1:m:2])) + 2 * np.sum(f(x[2:m-1:2])) + f(x[m]))"
   ]
  },
  {
   "cell_type": "code",
   "execution_count": 9,
   "metadata": {},
   "outputs": [
    {
     "name": "stdout",
     "output_type": "stream",
     "text": [
      "0.6321205588285577\n",
      "0.6321209095890152\n",
      "0.17616074510474355\n",
      "-0.00021312117510496886\n"
     ]
    }
   ],
   "source": [
    "# Exact integral value\n",
    "I_exact = (np.e - 1) / np.e \n",
    "print(I_exact)\n",
    "print(compositeSimpson(f, a, b, 10))\n",
    "\n",
    "print(I_exact - compositeSimpson(f, a, b, 1))\n",
    "print(I_exact - compositeSimpson(f, a, b, 2))\n"
   ]
  },
  {
   "cell_type": "code",
   "execution_count": 10,
   "metadata": {},
   "outputs": [
    {
     "name": "stdout",
     "output_type": "stream",
     "text": [
      "Subintervals:  [2 4 6 8]\n",
      "Errors:  [0.00021312117510496886, 1.361649197462178e-05, 2.700772859354217e-06, 8.557761845828793e-07]\n"
     ]
    }
   ],
   "source": [
    "# Array of errors\n",
    "errs = [np.abs(I_exact - compositeSimpson(f,a,b,m)) for m in ms]\n",
    "print('Subintervals: ', ms)\n",
    "print('Errors: ', errs)"
   ]
  },
  {
   "cell_type": "code",
   "execution_count": 12,
   "metadata": {},
   "outputs": [
    {
     "data": {
      "text/plain": [
       "[3.9682469683548565, 3.989846955184642, 3.994980883230605]"
      ]
     },
     "execution_count": 12,
     "metadata": {},
     "output_type": "execute_result"
    }
   ],
   "source": [
    "#Estimated convergence order (should be 4 for Simpson's rule)\n",
    "approxp = [ np.log(errs[i+1]/errs[i]) / (np.log(ms[i]/ms[i+1]))  for i in range(ms.size-1) ]\n",
    "approxp"
   ]
  },
  {
   "cell_type": "markdown",
   "metadata": {},
   "source": [
    "## Problem 4"
   ]
  },
  {
   "cell_type": "markdown",
   "metadata": {},
   "source": [
    "### a)"
   ]
  },
  {
   "cell_type": "code",
   "execution_count": 4,
   "metadata": {},
   "outputs": [
    {
     "name": "stdout",
     "output_type": "stream",
     "text": [
      "0.3350000000000001\n",
      "0.375\n",
      "0.35185185185185186\n",
      "0.34375\n",
      "0.3400000000000001\n",
      "0.33335000000000004\n"
     ]
    }
   ],
   "source": [
    "import numpy as np\n",
    "from IPython.display import display, Math, Latex\n",
    "\n",
    "def g(x): \n",
    "    return x**2\n",
    "\n",
    "def metode(f, a, b , m):\n",
    "    xs = np.linspace (a , b, m+1)\n",
    "    ys = [f(x) for x in xs]\n",
    "    s = (ys[0] + ys[-1] + 2* sum(ys[1:-1])) * ((b-a) / (2*m))\n",
    "    return s\n",
    "m = 10\n",
    "\n",
    "print(metode(g, 0 ,1 ,m))\n",
    "print(metode(g, 0 ,1 ,2))\n",
    "print(metode(g, 0 ,1 ,3))\n",
    "print(metode(g, 0 ,1 ,4))\n",
    "print(metode(g, 0 ,1 ,5))\n",
    "print(metode(g, 0 ,1 ,100))"
   ]
  },
  {
   "cell_type": "markdown",
   "metadata": {},
   "source": [
    "### b)\n",
    "#### This is effectively the trapezoidal method"
   ]
  }
 ],
 "metadata": {
  "kernelspec": {
   "display_name": "Python 3",
   "language": "python",
   "name": "python3"
  },
  "language_info": {
   "codemirror_mode": {
    "name": "ipython",
    "version": 3
   },
   "file_extension": ".py",
   "mimetype": "text/x-python",
   "name": "python",
   "nbconvert_exporter": "python",
   "pygments_lexer": "ipython3",
   "version": "3.9.6"
  },
  "vscode": {
   "interpreter": {
    "hash": "5c7b89af1651d0b8571dde13640ecdccf7d5a6204171d6ab33e7c296e100e08a"
   }
  }
 },
 "nbformat": 4,
 "nbformat_minor": 2
}
