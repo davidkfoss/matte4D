{
 "cells": [
  {
   "cell_type": "markdown",
   "id": "023ed9fd",
   "metadata": {},
   "source": [
    "# Exercise 1 - TMA4130 - Mathematics 4N\n",
    "\n",
    "In this exercise you are supposed to write python code as instructed. All problems are explained in the markdown cells, and for each problem there is a code cell below where you solve the problems.\n",
    "So you complete your answers in a copy of THIS notebook and upload the ipynb-file through the ovsys system when you are done.\n",
    "\n",
    "All answers should be given in the code cells, and you can document what you do in inline comments (prefixed by # as usual in Python code).\n",
    "\n",
    "### Problem 1 (Linear algebra)\n",
    "\n",
    "#### (a) \n",
    "Define the ndarray's V and W that contain the vectors\n",
    "\n",
    "$$\n",
    "V = [1, -1, 2, 2],\\quad W = [2,0,1,-1]\n",
    "$$\n",
    "\n",
    "using the function np.array.\n",
    "\n",
    "#### (b)\n",
    "Have Python compute $V+W$, $V-W$, $V^T W$\n",
    "\n",
    "#### (c)\n",
    "Define the matrix below as a ndarray by using np.array\n",
    "$$\n",
    "   A=\\left[ \\begin{array}{rrrr} 1 & -1 & 0 & 1\\\\ 2 & 0 & -1 & 1 \\\\ 1&1&1&1\\\\ -1 &2 &1 &1\\end{array}\\right] \n",
    "$$\n",
    "\n",
    "#### (d)\n",
    "Find the rank of $A$ by using np.linalg.matrix_rank, and if possible, solve the system $A x = V$ with respect to $x$ where $V$ is as defined in (a).\n",
    "\n",
    "#### (e)\n",
    "Compute the eigenvalues of the matrix $A$ by np.linalg.eig\n"
   ]
  },
  {
   "cell_type": "code",
   "execution_count": 9,
   "id": "3fb75804",
   "metadata": {},
   "outputs": [
    {
     "name": "stdout",
     "output_type": "stream",
     "text": [
      "V + W =  [ 3 -1  3  1]\n",
      "V - W =  [-1 -1  1  3]\n",
      "VT * W =  2\n",
      "4\n",
      "[-0.14285714 -0.28571429  1.57142857  0.85714286]\n",
      "[-0.1945968+1.70058547j -0.1945968-1.70058547j  2.3891936+0.j\n",
      "  1.       +0.j        ]\n"
     ]
    }
   ],
   "source": [
    "import numpy as np\n",
    "# Complete Problem 1 here\n",
    "V = np.array([1,-1,2,2])\n",
    "W = np.array([2,0,1,-1])\n",
    "\n",
    "print(\"V + W = \", np.add(V,W))\n",
    "print(\"V - W = \", np.subtract(V,W))\n",
    "print(\"VT * W = \", np.dot(V.T,W))\n",
    "\n",
    "A = np.array([[1,-1,0,1],[2,0,-1,1],[1,1,1,1],[-1,2,1,1]])\n",
    "print(np.linalg.matrix_rank(A))\n",
    "print(np.linalg.solve(A,V))\n",
    "print(np.linalg.eigvals(A))\n"
   ]
  },
  {
   "cell_type": "markdown",
   "id": "41f4fd8c",
   "metadata": {},
   "source": [
    "### Problem 2 (plot a function)\n",
    "\n",
    "#### (a)\n",
    "Let $P$ be a ndarray of distinct (different) values. As an example, generate $P=[0,0.1,0.2,...,0.9,1]$ by using the numpy function np.linspace.\n",
    "\n",
    "#### (b)\n",
    "Let us assume that the ndarray $P$ in (a) has 3 elements always with distinct values.\n",
    "We define the function\n",
    "\n",
    "$$\n",
    "     L_1(x) = \\frac{(x-P[0])(x-P[2])}{(P[1]-P[0])(P[1]-P[2])}\n",
    "$$\n",
    "\n",
    "Make a function L1(x,P) which computes this. Make it so that if x isn't **one** number, but in itself a ndarray with $m+1$ values, $x=[x_0, x_1, \\ldots,x_m]$, the function will return a ndarray consisting of\n",
    "$[L_1(x_0), L_1(x_1),\\ldots,L_1(x_m)]$. Hint: Don't use for-loops.\n",
    "Test the function with $P=[1,2,3]$ and find the value of $L_1(x)$ for 50 values of $x$ between 0.5 and 3.5.\n",
    "\n",
    "#### (c)\n",
    "Import the module matplotlib.pyplot and plot $L_1(x)$ vs $x$ on the interval $x\\in [0.5, 3.5]$\n",
    "\n",
    "#### (d)\n",
    "Repeat (b) and (c) for the functions\n",
    "\n",
    "$$\n",
    " L_0(x) = \\frac{(x-P[1])(x-P[2])}{(P[0]-P[1])(P[0]-P[2])}\\qquad\\text{and}\\qquad\n",
    "  L_2(x) = \\frac{(x-P[0])(x-P[1])}{(P[2]-P[0])(P[2]-P[1])}\n",
    "$$\n",
    "\n"
   ]
  },
  {
   "cell_type": "code",
   "execution_count": 19,
   "id": "bc7a597a",
   "metadata": {},
   "outputs": [
    {
     "name": "stdout",
     "output_type": "stream",
     "text": [
      "[0.  0.1 0.2 0.3 0.4 0.5 0.6 0.7 0.8 0.9 1. ]\n"
     ]
    },
    {
     "data": {
      "text/plain": [
       "[<matplotlib.lines.Line2D at 0x145132a00>]"
      ]
     },
     "execution_count": 19,
     "metadata": {},
     "output_type": "execute_result"
    },
    {
     "data": {
      "image/png": "[encoded data removed]",
      "text/plain": [
       "<Figure size 432x288 with 1 Axes>"
      ]
     },
     "metadata": {
      "needs_background": "light"
     },
     "output_type": "display_data"
    }
   ],
   "source": [
    "import matplotlib.pyplot as plt\n",
    "# Complete problem 2 hereprint(P)\n",
    "P = np.linspace(0, 1, 11)\n",
    "print(P)\n",
    "\n",
    "def L1(x,P):\n",
    "    return ((x-P[0])*(x-P[2]))/((P[1]-P[0])*(P[1]-P[2]))\n",
    "def L0(x,P):\n",
    "    return ((x-P[1])*(x-P[2]))/((P[0]-P[1])*(P[0]-P[2]))\n",
    "def L2(x,P):\n",
    "    return ((x-P[0])*(x-P[1]))/((P[2]-P[0])*(P[2]-P[1]))\n",
    "\n",
    "x = np.linspace(0.5, 3.5, 50)\n",
    "P = np.array([1, 2, 3])\n",
    "\n",
    "L1 = (L1(x,P))\n",
    "L0 = (L0(x,P))\n",
    "L2 = (L2(x,P))\n",
    "\n",
    "plt.plot(x, L1)\n",
    "plt.plot(x, L0)\n",
    "plt.plot(x, L2)\n"
   ]
  },
  {
   "cell_type": "markdown",
   "id": "e2df6cb5",
   "metadata": {},
   "source": [
    "### Problem 3  - 4N only\n",
    "\n",
    "The function below extends the function implemented in Problem 2 above to a general amount of points. The function takes in input a 1D-array of points $x=x_0,\\ldots,x_m$ that serves for visualization purposes (as above) and compute functions $L_i(x)$ (different from the above ones) for every point $P_i$ in the 1D-array of points $P=P_0,\\ldots,P_n$. The function outputs a 2D-array `results` of size `nxm` where `results[i,j]`$=L_i(x_j)$. The code compiles without errors, but there are two errors in the code that you have to spot. This time the for loops are made explicit for didactic purposes. Hint: for three points you should recover the results above. It can be useful to plot the various $L_i(x)$ as done in Problem 2.  "
   ]
  },
  {
   "cell_type": "code",
   "execution_count": 6,
   "id": "cc27969c",
   "metadata": {},
   "outputs": [],
   "source": [
    "def L(xx,P):\n",
    "\n",
    "    results = np.ones((P.size, xx.size))\n",
    "\n",
    "    for i in range(results.shape[0]):\n",
    "        for j in range(results.shape[0]):\n",
    "            for k in range(results.shape[0]):\n",
    "                if k!=i:\n",
    "                    results[i,j] *= (xx[j] - P[i])/(P[i]-P[k])\n",
    "    \n",
    "    return results"
   ]
  },
  {
   "cell_type": "markdown",
   "id": "7cfe69c3",
   "metadata": {},
   "source": []
  }
 ],
 "metadata": {
  "kernelspec": {
   "display_name": "Python 3 (ipykernel)",
   "language": "python",
   "name": "python3"
  },
  "language_info": {
   "codemirror_mode": {
    "name": "ipython",
    "version": 3
   },
   "file_extension": ".py",
   "mimetype": "text/x-python",
   "name": "python",
   "nbconvert_exporter": "python",
   "pygments_lexer": "ipython3",
   "version": "3.9.6"
  }
 },
 "nbformat": 4,
 "nbformat_minor": 5
}
