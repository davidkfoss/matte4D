{
 "cells": [
  {
   "cell_type": "markdown",
   "id": "b291024a-290e-4ca7-b280-af7913fa46c5",
   "metadata": {},
   "source": [
    "# TMA4135/TMA4130 Matematikk 4D/4N\n",
    "\n",
    "Høst 2023\n",
    "\n",
    "## Exercise 4: Bisection method\n",
    "\n",
    "Consider the function\n",
    "\\begin{align}\n",
    "    f(x)=(1-3^x)x^2+4(x-1)3^x+4(1-x),\n",
    "\\end{align}\n",
    "we want to find all roots of $f(x)$ on the interval $[-2,3]$.\n",
    "        \n",
    "These are the helping functions for \n",
    "\n",
    "c) Use python to find the roots of $f(x)$ with an error smaller than $10^{-3}$."
   ]
  },
  {
   "cell_type": "markdown",
   "id": "de9bf6fc-5b63-4401-8613-13bd8b7ac495",
   "metadata": {},
   "source": [
    "You can use the code from the notes:"
   ]
  },
  {
   "cell_type": "code",
   "execution_count": 6,
   "id": "c7034036-2330-4d06-826f-ce938c7d1a51",
   "metadata": {},
   "outputs": [],
   "source": [
    "def bisection(f, a, b, tol=1.0e-6, max_iter = 100, verbose=True):\n",
    "    \"\"\"\n",
    "        bisection(f, a, b, tol=1e-6, maxiter=100)\n",
    "    \n",
    "    Solve the scalar equation f(x) = 0 by bisection.\n",
    "    \n",
    "    Input:\n",
    "        f    - the function\n",
    "        a, b - the interval\n",
    "    Optional (keyword arguments)\n",
    "        tol  - (`1.0e-6`) a tolerance when to stop due to a small intervall\n",
    "        max_iter - (`100`) a maximal number of iterations\n",
    "        verbose - (`True`) activates printing if set to true\n",
    "    Output:\n",
    "        r, k - the found root and the number of iterations needed\n",
    "               to get to this point\n",
    "    \"\"\"\n",
    "    fa = f(a)\n",
    "    fb = f(b)\n",
    "    if fa*fb > 0:\n",
    "        print('Error: f(a)*f(b)>0, there may be no root in the interval.')\n",
    "        return 0, 0\n",
    "    for k in range(max_iter):\n",
    "        c = (a+b)/2                # The midpoint\n",
    "        fc = f(c)              # function value in the middle point     \n",
    "        verbose and print('k={:3d}, a={:.6f}, b={:.6f}, c={:10.6f}, f(c)={:10.3e}'\n",
    "              .format(k, a, b, c, fc)) \n",
    "        \n",
    "        # Check here the 4 cases:\n",
    "        # - f(c) is close to the solution given the tolerance, break the loop and output the result\n",
    "        # - the interval length (b-a) is small enough that the solution must be inside this: break the loop and output the result\n",
    "        # - the solution is on one side (a,c): split the interval and proceed further\n",
    "        # - the solution is on the other side (c,b): split the other interval and proceed further\n",
    "\n",
    "\n",
    "       # TO COMPLETE\n",
    "        if abs(fc) <= tol:\n",
    "            kn = k\n",
    "            break\n",
    "        elif abs(b-a) <= tol:\n",
    "            kn = k\n",
    "            break\n",
    "        elif fa*fc < 0:\n",
    "            b = c\n",
    "            fb = f(c) \n",
    "        else:\n",
    "            a = c\n",
    "            fa = f(c)\n",
    "            \n",
    "    return c, k  # solution and number of iteration, i.e. intervals splitting"
   ]
  },
  {
   "cell_type": "markdown",
   "id": "78ecf9d7",
   "metadata": {},
   "source": [
    "Solution: Define the function f(x)"
   ]
  },
  {
   "cell_type": "code",
   "execution_count": 12,
   "id": "4d4f3238-bd31-42e3-9d65-628c3213b08e",
   "metadata": {},
   "outputs": [
    {
     "name": "stdout",
     "output_type": "stream",
     "text": [
      "0.03125\n",
      "k=  0, a=-2.000000, b=3.000000, c=  0.500000, f(c)=-1.647e+00\n",
      "k=  1, a=-2.000000, b=0.500000, c= -0.750000, f(c)= 4.245e+00\n",
      "k=  2, a=-0.750000, b=0.500000, c= -0.125000, f(c)= 5.794e-01\n",
      "k=  3, a=-0.125000, b=0.500000, c=  0.187500, f(c)=-7.514e-01\n",
      "k=  4, a=-0.125000, b=0.187500, c=  0.031250, f(c)=-1.354e-01\n",
      "k=  5, a=-0.125000, b=0.031250, c= -0.046875, f(c)= 2.103e-01\n",
      "k=  6, a=-0.046875, b=0.031250, c= -0.007812, f(c)= 3.445e-02\n",
      "k=  7, a=-0.007812, b=0.031250, c=  0.011719, f(c)=-5.122e-02\n",
      "k=  8, a=-0.007812, b=0.011719, c=  0.001953, f(c)=-8.575e-03\n",
      "k=  9, a=-0.007812, b=0.001953, c= -0.002930, f(c)= 1.289e-02\n",
      "k= 10, a=-0.002930, b=0.001953, c= -0.000488, f(c)= 2.146e-03\n",
      "k= 11, a=-0.000488, b=0.001953, c=  0.000732, f(c)=-3.218e-03\n",
      "k= 12, a=-0.000488, b=0.000732, c=  0.000122, f(c)=-5.364e-04\n"
     ]
    }
   ],
   "source": [
    "def f(x):\n",
    "    return (1-3**x)*x**2+4*(x-1)*3**x+4*(1-x)\n",
    "\n",
    "a,b= -2, 3   # define the interval\n",
    "c, nit = bisection(f,a,b,tol=1.e-3,max_iter=13)"
   ]
  },
  {
   "cell_type": "code",
   "execution_count": 8,
   "id": "bf3b7509-eacb-461d-a30a-39438ec8406a",
   "metadata": {},
   "outputs": [
    {
     "data": {
      "image/png": "[encoded data removed]",
      "text/plain": [
       "<Figure size 432x288 with 1 Axes>"
      ]
     },
     "metadata": {
      "needs_background": "light"
     },
     "output_type": "display_data"
    }
   ],
   "source": [
    "# plotting and saving of the function\n",
    "\n",
    "import numpy as np\n",
    "import matplotlib.pyplot as plt\n",
    "x=np.linspace(a,b,1000)\n",
    "plt.plot(x, f(x))\n",
    "plt.grid()\n",
    "plt.savefig(\"BisectionMethod-problem1\",dpi = 200)"
   ]
  },
  {
   "cell_type": "markdown",
   "id": "431424df",
   "metadata": {},
   "source": [
    "### Kode fra oppgave 2b)"
   ]
  },
  {
   "cell_type": "code",
   "execution_count": 3,
   "id": "75d6015e",
   "metadata": {},
   "outputs": [
    {
     "name": "stdout",
     "output_type": "stream",
     "text": [
      "0.07298164543160722\n",
      "0.01646129230512068\n",
      "0.0036534347705024645\n",
      "0.0008067806497155522\n",
      "0.00017795000341036538\n",
      "3.9239752796016436e-05\n",
      "8.652253972202262e-06\n",
      "1.9077729236510743e-06\n",
      "4.206519177568646e-07\n"
     ]
    }
   ],
   "source": [
    "import numpy as np \n",
    "def g(x):\n",
    "    return np.cos(np.exp(-x))**2/4 \n",
    "x = 0\n",
    "x_old = 1\n",
    "while np.abs(x_old-x) > 1e-6:\n",
    "    x_old = x\n",
    "    x = g(x)\n",
    "    print(x-x_old)"
   ]
  }
 ],
 "metadata": {
  "kernelspec": {
   "display_name": "Python 3 (ipykernel)",
   "language": "python",
   "name": "python3"
  },
  "language_info": {
   "codemirror_mode": {
    "name": "ipython",
    "version": 3
   },
   "file_extension": ".py",
   "mimetype": "text/x-python",
   "name": "python",
   "nbconvert_exporter": "python",
   "pygments_lexer": "ipython3",
   "version": "3.9.6"
  }
 },
 "nbformat": 4,
 "nbformat_minor": 5
}
