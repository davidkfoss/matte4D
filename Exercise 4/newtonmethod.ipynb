{
 "cells": [
  {
   "cell_type": "markdown",
   "id": "1e5cd9bc-0802-4982-86a6-339b48c6336e",
   "metadata": {},
   "source": [
    "# TMA4135/TMA4130 Matematikk 4D/4N\n",
    "\n",
    "Høst 2023\n",
    "\n",
    "## Exercise 4: Newton's method\n",
    "\n",
    "Consider the function\n",
    "\\begin{align*}\n",
    "    f(x)=\\cos(x)-\\sqrt{x},\n",
    "\\end{align*}\n",
    "    \twe want to find the root of $f(x)$."
   ]
  },
  {
   "cell_type": "markdown",
   "id": "527b783e-baac-4df0-9f7b-783ec9a4d16a",
   "metadata": {},
   "source": [
    "You can use the code from the notes:"
   ]
  },
  {
   "cell_type": "code",
   "execution_count": 2,
   "id": "85685557-23a0-49e5-9cdf-6aaa9a722ff0",
   "metadata": {
    "tags": []
   },
   "outputs": [],
   "source": [
    "import numpy as np\n",
    "\n",
    "def newton(f, df, x0, tol=1.e-8, max_iter=30, verbose=True):\n",
    "    \"\"\"\n",
    "        newton(f, df, x0, tol=1.e-8, max_iter=30, verbose=True):\n",
    "    \n",
    "    Solve $f(x) = 0$ by Newtons method.\n",
    "    \n",
    "    Input:\n",
    "        f    - the function f\n",
    "        df   - the derivative of f\n",
    "        x0   - initial value\n",
    "    Optional (keyword) parameters\n",
    "        tol      - (`1.0e-8`) a tolerance when to stop\n",
    "        max_iter - (`30`) the maximal number of iterations\n",
    "        verbose  - (`True`) prints the iterates if set to true\n",
    "    Output:\n",
    "        x, k - the found root and the number of iterations needed\n",
    "               to get to this point\n",
    "    \"\"\"\n",
    "    x = x0\n",
    "    verbose and print('k ={:3d}, x = {:18.15f}, f(x) = {:10.3e}'.format(0, x, f(x)))\n",
    "    for k in range(max_iter):\n",
    "        fx = f(x)\n",
    "        # TO COMPLETE\n",
    "        dfx = df(x)\n",
    "        # check if the tolerance criteria is satisfied\n",
    "        if np.abs(fx) < tol:\n",
    "            break\n",
    "        # update the value of x\n",
    "        x = x - fx/dfx\n",
    "        verbose and print('k ={:3d}, x = {:18.15f}, f(x) = {:10.3e}'.format(k+1, x, f(x)))\n",
    "    return x, k+1"
   ]
  },
  {
   "cell_type": "markdown",
   "id": "4b9f3640-ec59-495f-af14-6c27d314d2ce",
   "metadata": {},
   "source": [
    "Solution b): Define the function and its derivative"
   ]
  },
  {
   "cell_type": "code",
   "execution_count": 8,
   "id": "ac1b5907-cfc4-4046-859a-5e6c8a23aa05",
   "metadata": {},
   "outputs": [],
   "source": [
    "import numpy as np\n",
    "\n",
    "def f(x):\n",
    "    return np.cos(x) - np.sqrt(x)\n",
    "\n",
    "def df(x):\n",
    "    return -np.sin(x)-1/(2*np.sqrt(x))\n"
   ]
  },
  {
   "cell_type": "markdown",
   "id": "2fbe0529-79bf-4a6f-8936-a9dd5e0d5125",
   "metadata": {},
   "source": [
    "Run with different starting points"
   ]
  },
  {
   "cell_type": "code",
   "execution_count": 9,
   "id": "8fc933b1-2d99-410a-8cfe-82c13794f28a",
   "metadata": {},
   "outputs": [
    {
     "name": "stdout",
     "output_type": "stream",
     "text": [
      "k =  0, x =  1.000000000000000, f(x) = -4.597e-01\n",
      "k =  1, x =  0.657318198203377, f(x) = -1.912e-02\n",
      "k =  2, x =  0.641746105250497, f(x) = -3.880e-05\n",
      "\n",
      " The solution: 0.6417 has been achieved in: 3  iterations\n"
     ]
    }
   ],
   "source": [
    "sol, iter = newton(f,df,x0=1,tol=1.e-3)\n",
    "\n",
    "print(\"\\n The solution: {:.4f}\".format(sol), \"has been achieved in: {:d}\".format(iter), \" iterations\")"
   ]
  }
 ],
 "metadata": {
  "kernelspec": {
   "display_name": "Python 3 (ipykernel)",
   "language": "python",
   "name": "python3"
  },
  "language_info": {
   "codemirror_mode": {
    "name": "ipython",
    "version": 3
   },
   "file_extension": ".py",
   "mimetype": "text/x-python",
   "name": "python",
   "nbconvert_exporter": "python",
   "pygments_lexer": "ipython3",
   "version": "3.9.6"
  }
 },
 "nbformat": 4,
 "nbformat_minor": 5
}
